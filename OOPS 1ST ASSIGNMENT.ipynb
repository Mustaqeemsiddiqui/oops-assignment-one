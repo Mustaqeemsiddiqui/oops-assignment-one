{
 "cells": [
  {
   "cell_type": "markdown",
   "id": "9ddb53bd-e59a-41b8-9d4d-e894a164a834",
   "metadata": {},
   "source": [
    "Q1.Explain Class and object with respect to Object-Oriented Programming .Give a suitable example"
   ]
  },
  {
   "cell_type": "markdown",
   "id": "55f5d3a9-cd4e-4c52-8d96-5b3b105603dc",
   "metadata": {},
   "source": [
    "Ans:---\n",
    "CLASS:--- Class is a blueprint or a template that defines the properties and behaviour of an objet it serves as a blueprint for creating objects of that class type .The class encapsulates data (attribtes) and functions (method) that define the behavior of the object created from it.\n",
    "OBJECT:--- Object is an instance of a class. It represents a specific entity or concept in the real world .Objects has a unique characteristics , attributes and behavior based on the class they belong to . Each object has its own data values for the attributes defined in the class, and it can perform actions or methods defined in the class."
   ]
  },
  {
   "cell_type": "code",
   "execution_count": 3,
   "id": "cf06026a-4412-43e0-b887-4ef9f0a87384",
   "metadata": {},
   "outputs": [],
   "source": [
    "class car :\n",
    "    def __init__(self, make, model,year,colour,average,speed):\n",
    "        \n",
    "        self.make=make\n",
    "        self.model=model\n",
    "        self.year=year\n",
    "        self.colour=colour\n",
    "        self.average=average\n",
    "        self.speed=speed\n",
    "    "
   ]
  },
  {
   "cell_type": "code",
   "execution_count": 4,
   "id": "2bee2403-dbfc-4026-b95b-24e1b36b5b9c",
   "metadata": {},
   "outputs": [],
   "source": [
    "car1=car(\"toyota\",\"camry\",2019,\"black\",15,260)"
   ]
  },
  {
   "cell_type": "code",
   "execution_count": 5,
   "id": "1d9e0cb0-2040-42fd-a7e7-a6cdb7576b4d",
   "metadata": {},
   "outputs": [
    {
     "data": {
      "text/plain": [
       "'black'"
      ]
     },
     "execution_count": 5,
     "metadata": {},
     "output_type": "execute_result"
    }
   ],
   "source": [
    "car1.colour"
   ]
  },
  {
   "cell_type": "markdown",
   "id": "20c8338c-8a50-4c96-8d51-7de635db9a43",
   "metadata": {},
   "source": [
    "car1.colour"
   ]
  },
  {
   "cell_type": "markdown",
   "id": "24f421a8-b850-4f13-b360-532129207e88",
   "metadata": {},
   "source": [
    "In the above example \"car1\" is an object of class \"car\""
   ]
  },
  {
   "cell_type": "markdown",
   "id": "5386ae0b-6fa5-4a3b-9649-51de4e8c463a",
   "metadata": {},
   "source": [
    "Q2.Name the four pillars of OOP's."
   ]
  },
  {
   "cell_type": "markdown",
   "id": "14680ede-3dcd-43e1-9a99-8b4c69e04112",
   "metadata": {},
   "source": [
    "Ans:---The four pillars of OOP's are:\n",
    "1.ABSTRACTION\n",
    "2.ENCAPSULATION\n",
    "3.INHERITANCE\n",
    "4.POLYMORPHISM"
   ]
  },
  {
   "cell_type": "markdown",
   "id": "6263132c-8161-4692-bc5b-11e116816237",
   "metadata": {},
   "source": [
    "Q3.Explain why __init__() function is used .Give a suitable example."
   ]
  },
  {
   "cell_type": "markdown",
   "id": "025178a1-cd13-43f1-8614-6c9bf17af317",
   "metadata": {},
   "source": [
    "Ans:---\n",
    "The _ _ init _ _ () function is a special method in python classes that is automatically called when an object of the class is created .It is known as the constructor method because it initializes the object's attributes and performs any necessary setup operations \n",
    "The primary purpose os the _ _ init _ _() function is to set the initial state of the  object by assigning values to it's attributes .It allows you to specify the initial values for the object's attributes at the time of object creation."
   ]
  },
  {
   "cell_type": "code",
   "execution_count": 2,
   "id": "14d8848b-86c0-4170-a23d-bc423573ed2a",
   "metadata": {},
   "outputs": [],
   "source": [
    "class person:\n",
    "    def __init__(self,name,email_id,age, date_of_birth):\n",
    "        self.name=name\n",
    "        self.email_id=email_id\n",
    "        self.age=age\n",
    "        self.date_of_birth=date_of_birth\n",
    "        "
   ]
  },
  {
   "cell_type": "code",
   "execution_count": 5,
   "id": "8af2a50a-a845-4d28-af38-1a44115d95e6",
   "metadata": {},
   "outputs": [],
   "source": [
    "p1=person(\"rohan\",\"rohan@gmail.com\",23,\"10 sept 2000\")"
   ]
  },
  {
   "cell_type": "code",
   "execution_count": 6,
   "id": "f499cb61-5c71-40d5-bf5b-0b730e6c4865",
   "metadata": {},
   "outputs": [
    {
     "data": {
      "text/plain": [
       "'10 sept 2000'"
      ]
     },
     "execution_count": 6,
     "metadata": {},
     "output_type": "execute_result"
    }
   ],
   "source": [
    "p1.date_of_birth"
   ]
  },
  {
   "cell_type": "code",
   "execution_count": 7,
   "id": "d011852d-31fd-4cdf-8d0e-7dfc0e304899",
   "metadata": {},
   "outputs": [
    {
     "data": {
      "text/plain": [
       "'rohan'"
      ]
     },
     "execution_count": 7,
     "metadata": {},
     "output_type": "execute_result"
    }
   ],
   "source": [
    "p1.name"
   ]
  },
  {
   "cell_type": "code",
   "execution_count": 8,
   "id": "c1b3c67b-cf52-4af9-9004-2dcf2e3c2f37",
   "metadata": {},
   "outputs": [
    {
     "data": {
      "text/plain": [
       "'rohan@gmail.com'"
      ]
     },
     "execution_count": 8,
     "metadata": {},
     "output_type": "execute_result"
    }
   ],
   "source": [
    "p1.email_id"
   ]
  },
  {
   "cell_type": "markdown",
   "id": "824efecb-b147-48de-8db5-e037c1644d95",
   "metadata": {},
   "source": [
    "The __init__() function allows us to ensure that every object of the person class has the necessary attributes with their initial values .It helps in maintaining consistensy and providing a standardarized way to initialize objects."
   ]
  },
  {
   "cell_type": "markdown",
   "id": "7d26f22b-56ce-486a-8fb8-2d19e4cdbfeb",
   "metadata": {},
   "source": [
    "Q4.Why self is used in OOP's?"
   ]
  },
  {
   "cell_type": "markdown",
   "id": "e8f3d3ee-b640-4772-b6a3-89e8c6d49782",
   "metadata": {},
   "source": [
    "Ans:--- \"self\" is used in OOP's tp refer to the current instance of a class. It enables access to instance of a class .It enables access to instance variables and methods within the class .It differentiate between class level and instance level elements, allows method chaining and supports inheritance and polymorphism."
   ]
  },
  {
   "cell_type": "markdown",
   "id": "121a7095-e0ed-472b-9cec-65d99b96d4f1",
   "metadata": {},
   "source": [
    "Q5.What is inheritance ? Give an example for each type of inheriance."
   ]
  },
  {
   "cell_type": "markdown",
   "id": "a9d35a68-0362-40e9-b64e-4c7cd96a5773",
   "metadata": {},
   "source": [
    "Ans:--- Inheritance is a fundamental concept in OOP that allows one class to inherit properties and methods from another class .The class that inherits is called the \"subclass\" or \"derived class\" while the class being inherited from is called the \"superclass\" or \"base class\" .Inheritance promotes code reuse, modularity and facilities the creation of the hiararchial relationships between classes \n",
    "There are basically 5 types of Inheritance ,they are:\n",
    "1.SINGLE INHERITANCE\n",
    "2.MULTIPLE INHERIANCE\n",
    "3.MULTILEVEL INHERITANCE\n",
    "4.HIERARCHICAL INHERITANCE\n",
    "5.HYBRID INHERITANCE"
   ]
  },
  {
   "cell_type": "code",
   "execution_count": 9,
   "id": "3ea2791b-5ff6-461e-a805-016d6e283727",
   "metadata": {},
   "outputs": [],
   "source": [
    "#single inheritance\n",
    "class animal:\n",
    "    def __init__(self,name):\n",
    "        self.name=name\n",
    "    def speaks(self):\n",
    "        print (\"animal language\")"
   ]
  },
  {
   "cell_type": "code",
   "execution_count": 10,
   "id": "db703d48-83ea-4569-a986-6aaf3023cbc4",
   "metadata": {},
   "outputs": [],
   "source": [
    "class cat(animal):\n",
    "    def speaks(self):\n",
    "        print(\"meow\")"
   ]
  },
  {
   "cell_type": "code",
   "execution_count": 11,
   "id": "7d49306f-7223-492e-9d00-7d5e49ab0dda",
   "metadata": {},
   "outputs": [],
   "source": [
    "cat=cat(\"fluffy\")"
   ]
  },
  {
   "cell_type": "code",
   "execution_count": 12,
   "id": "a95ccdec-c890-4dad-96c3-ef39f3be94cc",
   "metadata": {},
   "outputs": [
    {
     "data": {
      "text/plain": [
       "'fluffy'"
      ]
     },
     "execution_count": 12,
     "metadata": {},
     "output_type": "execute_result"
    }
   ],
   "source": [
    "cat.name"
   ]
  },
  {
   "cell_type": "code",
   "execution_count": 13,
   "id": "0a3e619c-c682-4fb7-aa91-8de2cfff0fac",
   "metadata": {},
   "outputs": [
    {
     "name": "stdout",
     "output_type": "stream",
     "text": [
      "meow\n"
     ]
    }
   ],
   "source": [
    "cat.speaks()"
   ]
  },
  {
   "cell_type": "code",
   "execution_count": 14,
   "id": "9cfbce06-08d9-494c-bfab-60b61933bcaf",
   "metadata": {},
   "outputs": [],
   "source": [
    "#multiple inheritance"
   ]
  },
  {
   "cell_type": "code",
   "execution_count": 25,
   "id": "8119eb6b-44c2-49af-b5df-ee12d30ea42f",
   "metadata": {},
   "outputs": [],
   "source": [
    "class class1:\n",
    "    def test_class1(self):\n",
    "        return \"this is my first class\""
   ]
  },
  {
   "cell_type": "code",
   "execution_count": 26,
   "id": "5c625a7a-5de2-4651-a0b3-0bdda5dcbde4",
   "metadata": {},
   "outputs": [],
   "source": [
    "class class2:\n",
    "    def test_class2(self):\n",
    "        return \"this is my second class\""
   ]
  },
  {
   "cell_type": "code",
   "execution_count": 27,
   "id": "07b61362-e19c-44f5-a212-6f52355e1078",
   "metadata": {},
   "outputs": [],
   "source": [
    "class class3(class1,class2):\n",
    "    pass"
   ]
  },
  {
   "cell_type": "code",
   "execution_count": 28,
   "id": "478ec94c-1ee6-42d6-8d4a-59796fa2bcd5",
   "metadata": {},
   "outputs": [
    {
     "data": {
      "text/plain": [
       "<function __main__.class1.test_class1(self)>"
      ]
     },
     "execution_count": 28,
     "metadata": {},
     "output_type": "execute_result"
    }
   ],
   "source": [
    "class3.test_class1"
   ]
  },
  {
   "cell_type": "code",
   "execution_count": 29,
   "id": "c4129b96-3f24-400c-a53f-e20169286ecf",
   "metadata": {},
   "outputs": [],
   "source": [
    "obj_class3=class3()"
   ]
  },
  {
   "cell_type": "code",
   "execution_count": 31,
   "id": "2b35c71d-3c9c-4a98-b9c6-9ae3ac545a80",
   "metadata": {},
   "outputs": [
    {
     "data": {
      "text/plain": [
       "'this is my first class'"
      ]
     },
     "execution_count": 31,
     "metadata": {},
     "output_type": "execute_result"
    }
   ],
   "source": [
    "obj_class3.test_class1()"
   ]
  },
  {
   "cell_type": "code",
   "execution_count": 33,
   "id": "b0669339-acad-4425-a457-990c86cabf53",
   "metadata": {},
   "outputs": [
    {
     "data": {
      "text/plain": [
       "'this is my second class'"
      ]
     },
     "execution_count": 33,
     "metadata": {},
     "output_type": "execute_result"
    }
   ],
   "source": [
    "obj_class3.test_class2()"
   ]
  },
  {
   "cell_type": "code",
   "execution_count": 34,
   "id": "815dd120-498b-45b8-904b-d52be14803c6",
   "metadata": {},
   "outputs": [],
   "source": [
    "#multilevel inheritance"
   ]
  },
  {
   "cell_type": "code",
   "execution_count": 35,
   "id": "457d4af2-3dc2-4a66-aa16-d9188936aa11",
   "metadata": {},
   "outputs": [],
   "source": [
    "class class1:\n",
    "    def test_class1(self):\n",
    "        return \"this is my first level of inheritance\""
   ]
  },
  {
   "cell_type": "code",
   "execution_count": 36,
   "id": "7a515e17-6c1f-4aec-bf89-37c3c31bede5",
   "metadata": {},
   "outputs": [],
   "source": [
    "class class2(class1):\n",
    "    def test_class2(self):\n",
    "        return \"this is my second level of inheritance\""
   ]
  },
  {
   "cell_type": "code",
   "execution_count": 37,
   "id": "8757e7f3-2cb0-4d7e-a91d-3140fcd7fe09",
   "metadata": {},
   "outputs": [],
   "source": [
    "class class3(class2):\n",
    "    pass"
   ]
  },
  {
   "cell_type": "code",
   "execution_count": 40,
   "id": "447b7739-f230-4fbc-9dc0-4d59bc84a635",
   "metadata": {},
   "outputs": [],
   "source": [
    "obj_class3=class3()"
   ]
  },
  {
   "cell_type": "code",
   "execution_count": 41,
   "id": "737837d1-847c-4d67-a53f-231c1938aeb2",
   "metadata": {},
   "outputs": [
    {
     "data": {
      "text/plain": [
       "'this is my first level of inheritance'"
      ]
     },
     "execution_count": 41,
     "metadata": {},
     "output_type": "execute_result"
    }
   ],
   "source": [
    "obj_class3.test_class1()"
   ]
  },
  {
   "cell_type": "code",
   "execution_count": 42,
   "id": "050d6ea3-d5f1-4d6f-a6d4-02ece84d0928",
   "metadata": {},
   "outputs": [
    {
     "data": {
      "text/plain": [
       "'this is my second level of inheritance'"
      ]
     },
     "execution_count": 42,
     "metadata": {},
     "output_type": "execute_result"
    }
   ],
   "source": [
    "obj_class3.test_class2()"
   ]
  },
  {
   "cell_type": "code",
   "execution_count": 43,
   "id": "8350d39b-9f19-41fd-bee6-d30fe6a5aa4a",
   "metadata": {},
   "outputs": [],
   "source": [
    "#5hybrid inheritance"
   ]
  },
  {
   "cell_type": "code",
   "execution_count": 44,
   "id": "9f439d09-ebc3-44c7-8694-c45185b731bd",
   "metadata": {},
   "outputs": [],
   "source": [
    "class animal:\n",
    "    def eat(self):\n",
    "        return\"animal is eating\""
   ]
  },
  {
   "cell_type": "code",
   "execution_count": 45,
   "id": "ba2c5b40-325d-40a5-bda5-1b3dedda0c64",
   "metadata": {},
   "outputs": [],
   "source": [
    "class mammal(animal):\n",
    "    def run(self):\n",
    "        return \" mammal is running\""
   ]
  },
  {
   "cell_type": "code",
   "execution_count": 46,
   "id": "8396f5ee-9fe7-43fb-98bf-34980aab55e7",
   "metadata": {},
   "outputs": [],
   "source": [
    "class aquatic(animal):\n",
    "    def swim(self):\n",
    "        return \" aqautic animal is swimmimg\""
   ]
  },
  {
   "cell_type": "code",
   "execution_count": 47,
   "id": "b468c9c3-b72d-4311-8e19-72a0ac46eafa",
   "metadata": {},
   "outputs": [],
   "source": [
    "class dolphin(mammal,aquatic):\n",
    "    pass"
   ]
  },
  {
   "cell_type": "code",
   "execution_count": 48,
   "id": "11f5e3f8-1d5a-4df8-9739-df0a963e5ee7",
   "metadata": {},
   "outputs": [],
   "source": [
    "obj_dolphin=dolphin()"
   ]
  },
  {
   "cell_type": "code",
   "execution_count": 49,
   "id": "a654206b-36e5-404a-bf7e-aea909cbf83a",
   "metadata": {},
   "outputs": [
    {
     "data": {
      "text/plain": [
       "'animal is eating'"
      ]
     },
     "execution_count": 49,
     "metadata": {},
     "output_type": "execute_result"
    }
   ],
   "source": [
    "obj_dolphin.eat()"
   ]
  },
  {
   "cell_type": "code",
   "execution_count": 51,
   "id": "9a85e378-aead-4f92-913f-df4468d7aac9",
   "metadata": {},
   "outputs": [
    {
     "data": {
      "text/plain": [
       "' mammal is running'"
      ]
     },
     "execution_count": 51,
     "metadata": {},
     "output_type": "execute_result"
    }
   ],
   "source": [
    "obj_dolphin.run()"
   ]
  },
  {
   "cell_type": "code",
   "execution_count": 52,
   "id": "bc11b00c-3e02-423a-8b60-fc76141d37e6",
   "metadata": {},
   "outputs": [
    {
     "data": {
      "text/plain": [
       "' aqautic animal is swimmimg'"
      ]
     },
     "execution_count": 52,
     "metadata": {},
     "output_type": "execute_result"
    }
   ],
   "source": [
    "obj_dolphin.swim()"
   ]
  },
  {
   "cell_type": "code",
   "execution_count": null,
   "id": "a4045d76-5561-4278-aa2a-07b12f615a01",
   "metadata": {},
   "outputs": [],
   "source": []
  }
 ],
 "metadata": {
  "kernelspec": {
   "display_name": "Python 3 (ipykernel)",
   "language": "python",
   "name": "python3"
  },
  "language_info": {
   "codemirror_mode": {
    "name": "ipython",
    "version": 3
   },
   "file_extension": ".py",
   "mimetype": "text/x-python",
   "name": "python",
   "nbconvert_exporter": "python",
   "pygments_lexer": "ipython3",
   "version": "3.10.8"
  }
 },
 "nbformat": 4,
 "nbformat_minor": 5
}
